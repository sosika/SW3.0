{
 "cells": [
  {
   "cell_type": "code",
   "execution_count": 4,
   "id": "9fc215dd-b09c-4931-9695-7b2c95ac1720",
   "metadata": {},
   "outputs": [
    {
     "name": "stdout",
     "output_type": "stream",
     "text": [
      "Response: []\n"
     ]
    }
   ],
   "source": [
    "import requests\n",
    "from datetime import datetime\n",
    "from top_secret import API_KEY\n",
    "\n",
    "# API endpoint\n",
    "url = \"https://api.coresignal.com/cdapi/v1/professional_network/job/search/filter\"\n",
    "\n",
    "# Authorization token (replace with your JWT)\n",
    "jwt_token = API_KEY\n",
    "\n",
    "# Get today's date in the required format\n",
    "today_date = datetime.now().strftime(\"%Y-%m-%d 00:00:01\")\n",
    "\n",
    "# Request headers\n",
    "headers = {\n",
    "    \"accept\": \"application/json\",\n",
    "    \"Authorization\": f\"Bearer {jwt_token}\",\n",
    "    \"Content-Type\": \"application/json\"\n",
    "}\n",
    "\n",
    "# Request payload\n",
    "payload = {\n",
    "    \"application_active\": True,\n",
    "    \"last_updated_gte\": today_date,\n",
    "    #\"last_updated_gte\": \"2024-11-27 00:00:01\",\n",
    "    \"country\": \"United States\",\n",
    "    #\"title\": \"Program Manager\", \n",
    "    \"title\": \"(Program manager) AND (Remote)\",\n",
    "    \"deleted\": 0,\n",
    "    \"application_active\": 1,\n",
    "    #\"location\":\"(Denver, CO) OR (United States)\",\n",
    "    #\"location\": \"United States\",\n",
    "    #\"location\": \"\\\"United States\\\"\",\n",
    "    \"industry\": \"Software development\"\n",
    "}\n",
    "\n",
    "# Make the POST request\n",
    "try:\n",
    "    response = requests.post(url, headers=headers, json=payload)\n",
    "    response.raise_for_status()  # Raise an exception for HTTP errors\n",
    "    data = response.json()  # Parse the JSON response\n",
    "    print(\"Response:\", data)\n",
    "    with open(\"job_ids.json\", \"w\") as f:\n",
    "            json.dump(data, f)\n",
    "       # print(\"Job IDs saved to job_ids.json.\")\n",
    "except requests.exceptions.RequestException as e:\n",
    "    print(f\"An error occurred: {e}\")\n"
   ]
  },
  {
   "cell_type": "code",
   "execution_count": null,
   "id": "5d6422a6-637b-4068-aadf-a4dbf402c2a6",
   "metadata": {},
   "outputs": [],
   "source": []
  },
  {
   "cell_type": "code",
   "execution_count": null,
   "id": "5ce5d7c5-9d54-45fc-921f-1d76e90442c6",
   "metadata": {},
   "outputs": [],
   "source": []
  }
 ],
 "metadata": {
  "kernelspec": {
   "display_name": "Python 3 (ipykernel)",
   "language": "python",
   "name": "python3"
  },
  "language_info": {
   "codemirror_mode": {
    "name": "ipython",
    "version": 3
   },
   "file_extension": ".py",
   "mimetype": "text/x-python",
   "name": "python",
   "nbconvert_exporter": "python",
   "pygments_lexer": "ipython3",
   "version": "3.12.7"
  }
 },
 "nbformat": 4,
 "nbformat_minor": 5
}
