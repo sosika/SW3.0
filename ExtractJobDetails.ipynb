{
 "cells": [
  {
   "cell_type": "code",
   "execution_count": 26,
   "id": "41610c9c-7481-4c29-b48e-7a35fb67e703",
   "metadata": {},
   "outputs": [
    {
     "name": "stdout",
     "output_type": "stream",
     "text": [
      "Details for Job ID 312618060 written to CSV.\n",
      "Details for Job ID 316163297 written to CSV.\n",
      "Details for Job ID 317497052 written to CSV.\n",
      "Details for Job ID 317624589 written to CSV.\n",
      "Details for Job ID 318606681 written to CSV.\n",
      "Details for Job ID 319116517 written to CSV.\n",
      "Details for Job ID 319444211 written to CSV.\n",
      "Details for Job ID 319660273 written to CSV.\n",
      "Details for Job ID 320432994 written to CSV.\n"
     ]
    }
   ],
   "source": [
    "import requests\n",
    "import json\n",
    "import csv\n",
    "from top_secret import API_KEY\n",
    "\n",
    "# API endpoint to retrieve individual job data\n",
    "job_url_template = \"https://api.coresignal.com/cdapi/v1/professional_network/job/collect/\"\n",
    "\n",
    "# Authorization token\n",
    "jwt_token = API_KEY\n",
    "\n",
    "# Headers\n",
    "headers = {\n",
    "    \"accept\": \"application/json\",\n",
    "    \"Authorization\": f\"Bearer {jwt_token}\"\n",
    "}\n",
    "\n",
    "# Output CSV file\n",
    "output_csv = \"job_details.csv\"\n",
    "\n",
    "# Fields for the CSV (customize based on your API response structure)\n",
    "csv_headers = [\"job_id\", \"title\", \"company\", \"location\", \"description\"]\n",
    "\n",
    "# Load job IDs from the file\n",
    "try:\n",
    "    with open(\"job_ids.json\", \"r\") as f:\n",
    "        job_ids = json.load(f)\n",
    "except FileNotFoundError:\n",
    "    print(\"job_ids.json file not found. Please run the first script to fetch job IDs.\")\n",
    "    job_ids = []\n",
    "\n",
    "# Fetch details for each job ID and write to CSV\n",
    "if job_ids:\n",
    "    with open(output_csv, \"w\", newline='', encoding=\"utf-8\") as csvfile:\n",
    "        writer = csv.DictWriter(csvfile, fieldnames=csv_headers)\n",
    "        writer.writeheader()  # Write CSV header\n",
    "\n",
    "        for job_id in job_ids:\n",
    "            try:\n",
    "                job_url = f\"{job_url_template}{job_id}\"\n",
    "                response = requests.get(job_url, headers=headers)\n",
    "\n",
    "                if response.status_code == 200:\n",
    "                    job_data = response.json()\n",
    "\n",
    "                    # Prepare row for CSV (map API response to CSV headers)\n",
    "                    row = {\n",
    "                        \"job_id\": job_id,\n",
    "                        \"title\": job_data.get(\"title\", \"\"),\n",
    "                        \"company\": job_data.get(\"company\", {}).get(\"name\", \"\"),\n",
    "                        \"location\": job_data.get(\"location\", \"\"),\n",
    "                        #\"external_url\": job_data.get(\"external_url\"),\n",
    "                        #\"experience_company_website_url\": job_data.get(\"experience_company_website_url\"),\n",
    "                        #\"company_professional_network_url\": job_data.get(\"company_professional_network_url\",\"\"),\n",
    "                        \"description\": job_data.get(\"description\", \"\")\n",
    "                    }\n",
    "\n",
    "                    writer.writerow(row)  # Write job data to CSV\n",
    "                    print(f\"Details for Job ID {job_id} written to CSV.\")\n",
    "                else:\n",
    "                    print(f\"Failed to retrieve details for Job ID {job_id}. Status Code: {response.status_code}\")\n",
    "            except requests.exceptions.RequestException as e:\n",
    "                print(f\"An error occurred while fetching data for Job ID {job_id}: {e}\")\n",
    "else:\n",
    "    print(\"No job IDs to process.\")\n"
   ]
  },
  {
   "cell_type": "code",
   "execution_count": null,
   "id": "af64790b-e603-46be-8d77-684f592d936b",
   "metadata": {},
   "outputs": [],
   "source": []
  },
  {
   "cell_type": "code",
   "execution_count": null,
   "id": "ecf35b6d-ed2d-4959-8e8d-db44a90463c1",
   "metadata": {},
   "outputs": [],
   "source": []
  },
  {
   "cell_type": "code",
   "execution_count": null,
   "id": "73f8cc95-081d-4f55-8ee0-8488467ce94a",
   "metadata": {},
   "outputs": [],
   "source": []
  }
 ],
 "metadata": {
  "kernelspec": {
   "display_name": "Python 3 (ipykernel)",
   "language": "python",
   "name": "python3"
  },
  "language_info": {
   "codemirror_mode": {
    "name": "ipython",
    "version": 3
   },
   "file_extension": ".py",
   "mimetype": "text/x-python",
   "name": "python",
   "nbconvert_exporter": "python",
   "pygments_lexer": "ipython3",
   "version": "3.12.7"
  }
 },
 "nbformat": 4,
 "nbformat_minor": 5
}
